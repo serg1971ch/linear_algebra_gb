{
 "cells": [
  {
   "cell_type": "markdown",
   "id": "dc16b219",
   "metadata": {},
   "source": [
    "__1.__ Найти собственные векторы и собственные значения для линейного оператора, заданного матрицей\n",
    "\n",
    "$$A=\\begin{pmatrix}\n",
    "-1 & -6\\\\ \n",
    "2 & 6\n",
    "\\end{pmatrix}.$$"
   ]
  },
  {
   "cell_type": "code",
   "execution_count": 2,
   "id": "d791641a",
   "metadata": {},
   "outputs": [],
   "source": [
    "import numpy as np\n",
    "a = np.array([[-1, -6], [2, 6]])\n",
    "w, v = np.linalg.eig(a)"
   ]
  },
  {
   "cell_type": "code",
   "execution_count": 3,
   "id": "638448d5",
   "metadata": {},
   "outputs": [
    {
     "name": "stdout",
     "output_type": "stream",
     "text": [
      "Матрица A:\n",
      "[[-1 -6]\n",
      " [ 2  6]]\n",
      "Собственные значения:\n",
      "[2. 3.]\n",
      "Собственные векторы:\n",
      "[[-0.89442719  0.83205029]\n",
      " [ 0.4472136  -0.5547002 ]]\n"
     ]
    }
   ],
   "source": [
    "print(f'Матрица A:\\n{a}')\n",
    "print(f'Собственные значения:\\n{w}')\n",
    "print(f'Собственные векторы:\\n{v}')"
   ]
  },
  {
   "cell_type": "markdown",
   "id": "129ad9c4",
   "metadata": {},
   "source": [
    "__2.__ Дан оператор поворота на 180 градусов, задаваемый матрицей \n",
    "\n",
    "$$A=\\begin{pmatrix}\n",
    "-1 & 0\\\\ \n",
    "0 & -1\n",
    "\\end{pmatrix}.$$\n",
    "\n",
    "Показать, что __любой__ вектор является для него собственным."
   ]
  },
  {
   "cell_type": "markdown",
   "id": "4d33bfc3",
   "metadata": {},
   "source": [
    "$\\begin{vmatrix}\n",
    "-1 -\\lambda& 0\\\\ \n",
    "0 & -1-\\lambda\n",
    "\\end{vmatrix}=0$</br>\n",
    "<p></p>\n",
    "$(-1-\\lambda)(-1-\\lambda)=0$</br>\n",
    "<p></p>\n",
    "$(-1-\\lambda)^2$ = 0</br>\n",
    "<p></p>\n",
    "$\\begin{vmatrix}\n",
    "-1 \\\\ \n",
    "0 & -1\n",
    "\\end{vmatrix}*\\begin{vmatrix}\n",
    "x_1\\\\ \n",
    "x_2\n",
    "\\end{vmatrix}=\\lambda*\\begin{vmatrix}\n",
    "x_1\\\\ \n",
    "x_2\\end{vmatrix}$</br>\n",
    "<p></p>\n",
    "$\\{-x_1=\\lambda*x_1$</br>\n",
    "$ -x_2=\\lambda*x_2$</br>\n",
    "<p></p>\n",
    "\n",
    "$\\{-x_1=x_1$</br>\n",
    "$ -x_2= x_2$\n",
    "\n",
    "$\\{0*x_1=0$</br>\n",
    "$ 0*x_2=0$Является со значеним λ = 2\n",
    "Решение не зависит от значений x и y, следовательно для оператора поворота любой вектор является собственным."
   ]
  },
  {
   "cell_type": "markdown",
   "id": "26730587",
   "metadata": {},
   "source": [
    "__3.__ Пусть линейный оператор задан матрицей\n",
    "\n",
    "$$A=\\begin{pmatrix}\n",
    "1 & 1\\\\ \n",
    "-1 & 3\n",
    "\\end{pmatrix}.$$\n",
    "\n",
    "Установить, является ли вектор $x=(1,1)$ собственным вектором этого линейного оператора.\n"
   ]
  },
  {
   "cell_type": "markdown",
   "id": "86c3ec11",
   "metadata": {},
   "source": [
    "__Решение:__</br>\n",
    "<p></p>\n",
    "Предположим, что $x=\\begin{vmatrix}1\\\\1\\end{vmatrix}$ является собственным вектором оператора , тогда:</br>\n",
    "<p></p>\n",
    "$\\begin{vmatrix}\n",
    "1& 1\\\\ \n",
    "-1 & 3\\end{vmatrix}\\begin{vmatrix}1\\\\1\\end{vmatrix}=\\lambda*\\begin{vmatrix}1\\\\1\n",
    "\\end{vmatrix}$</br>\n",
    "<p></p>\n",
    "\n",
    "$1+1=1*\\lambda => \\lambda=2$</br>\n",
    "$-1+3=1*\\lambda => \\lambda=2$</br>\n",
    "<p></p>\n",
    "Является со значеним λ = 2"
   ]
  },
  {
   "cell_type": "markdown",
   "id": "2b955c48",
   "metadata": {},
   "source": [
    "__4.__ Пусть линейный оператор задан матрицей\n",
    "\n",
    "$$A=\\begin{pmatrix}\n",
    "0 & 3 & 0\\\\ \n",
    "3 & 0 & 0\\\\\n",
    "0 & 0 & 3\n",
    "\\end{pmatrix}.$$\n",
    "\n",
    "Установить, является ли вектор $x=(3, -3, -4)$ собственным вектором этого линейного оператора."
   ]
  },
  {
   "cell_type": "markdown",
   "id": "21c36c19",
   "metadata": {},
   "source": [
    "__Решение:__</br>\n",
    "<p></p>\n",
    "Предположим что вектор x собственный вектор оператора A , тогда:</br>\n",
    "<p></p>\n",
    "$\\begin{vmatrix}\n",
    "0&3&0\\\\ \n",
    "3 & 0 &0\\\\\n",
    "0&0&3\\end{vmatrix}\\begin{vmatrix}3\\\\-3\\\\-4\\end{vmatrix}=\\lambda*\\begin{vmatrix}3\\\\-3\\\\-4\n",
    "\\end{vmatrix} =>\\begin{cases}-9=3*\\lambda,\\\\9=-3*\\lambda,\\\\-12=-4*\\lambda\\end{cases}=>\\begin{cases}\\lambda=3,\\\\\\lambda=3,\\\\\\lambda=-3\\end{cases}$</br>\n",
    "<p></p>\n",
    "Такая система не имеет смысла, следовательно, вектор $x=(3, -3, -4)$ не является собственным вектором линейного оператора, заданного матрицей A.\n",
    "\n"
   ]
  }
 ],
 "metadata": {
  "kernelspec": {
   "display_name": "Python 3 (ipykernel)",
   "language": "python",
   "name": "python3"
  },
  "language_info": {
   "codemirror_mode": {
    "name": "ipython",
    "version": 3
   },
   "file_extension": ".py",
   "mimetype": "text/x-python",
   "name": "python",
   "nbconvert_exporter": "python",
   "pygments_lexer": "ipython3",
   "version": "3.9.12"
  }
 },
 "nbformat": 4,
 "nbformat_minor": 5
}
