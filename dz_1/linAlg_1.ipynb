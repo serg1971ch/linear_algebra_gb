{
 "cells": [
  {
   "cell_type": "markdown",
   "id": "bdc8749b",
   "metadata": {},
   "source": [
    "## Часть 1"
   ]
  },
  {
   "cell_type": "markdown",
   "id": "c658f0c9",
   "metadata": {},
   "source": [
    "__1.__ Исследовать на линейную зависимость:\n",
    "### $$f_{1}(x)=e^{x}, f_{2}(x)=1, f_{3}(x)=x+1, f_{4}(x)=x-e^{x}.$$\n",
    "\n",
    "\n",
    "__Решение__\n",
    "\n",
    "Заметим, что $f_{3}(x)= e^{x} + 1 + x-e^{x} $, то есть вектор $f_{3}(x)$ — линейная комбинация векторов $f_{1}(x)$,  $f_{2}(x)$  и $f_{4}(x)$, из чего можно сделать вывод, что $f_{1}(x)=e^{x}$, $f_{2}(x)=1$, $f_{3}(x)=x+1$ и $f_{4}(x)=x-e^{x}$ линейно зависимы."
   ]
  },
  {
   "cell_type": "markdown",
   "id": "6e2ca274",
   "metadata": {},
   "source": [
    "__2.__ Исследовать на линейную зависимость:\n",
    "### $$f_{1}(x)=2, f_{2}(x)=x, f_{3}(x)=x^{2}, f_{4}(x)=(x+1)^{2}.$$\n",
    "__Решение__\n",
    "\n",
    "Заметим, что $f_{4}(x) = f_{2}(x)+ f_{3}(x)+f_{4}(x) = 0$, то есть  $(x+1)^{2} = \\dfrac{1}{2}*2 + 2* x + x^{2} = 1 + 2x + x^{2}$ "
   ]
  },
  {
   "cell_type": "code",
   "execution_count": 8,
   "id": "e7a070a9",
   "metadata": {},
   "outputs": [
    {
     "name": "stdout",
     "output_type": "stream",
     "text": [
      "Решение данного алгебраического уравнения является: "
     ]
    },
    {
     "data": {
      "text/latex": [
       "$\\displaystyle x^{2} + 2 x + 1$"
      ],
      "text/plain": [
       "x**2 + 2*x + 1"
      ]
     },
     "execution_count": 8,
     "metadata": {},
     "output_type": "execute_result"
    }
   ],
   "source": [
    "import sympy\n",
    "x = sympy.Symbol('x')\n",
    "s = sympy.expand((1 + x) ** 2) \n",
    "print('Решение данного алгебраического уравнения является: ', end = '')\n",
    "s"
   ]
  },
  {
   "cell_type": "markdown",
   "id": "314c465c",
   "metadata": {},
   "source": [
    "таким образом $ (x+1)^{2} = (x+1)^{2}$ —  из чего можно сделать вывод, что $f_{1}(x)=e^{x}$, $f_{2}(x)=1$, $f_{3}(x)=x+1$ и $f_{4}(x)=x-e^{x}$ линейно зависимы."
   ]
  },
  {
   "cell_type": "markdown",
   "id": "92e22b85",
   "metadata": {},
   "source": [
    "__3.__ Найти координаты вектора $x = (2, 3, 5)\\in \\mathbb{R}^{3}$ в базисе $b_{1}=(0, 0, 10)$, $b_{2}=(2, 0, 0)$, $b_{3}=(0, 1, 0)$.\n",
    "\n",
    "__Решение__\n",
    "\n",
    "$x=(2,3,5)=(2,0,0)+(0,3,0)+(0,0,5)=1*(2,0,0)+3*(0,1,0)+1/2*(0,0,10)\n",
    "= 1e_{1} + 3e_2 + \\dfrac{1}{2}e_3$ </br>\n",
    "Координаты вектора x в указанном базисе:  __1, 3, 1/2__"
   ]
  },
  {
   "cell_type": "markdown",
   "id": "d12528a4",
   "metadata": {},
   "source": [
    "#### __4.__ Найти координаты вектора $3x^{2}-2x+2\\in\\mathbb{R}^{3}[x]$:\n",
    "\n",
    "   а) в базисе $1$, $x$, $x^{2} = (2,-2,3)$;\n",
    "\n",
    "   б) в базисе $x^{2}$, $x-1$, $1 = (3,-2, 0)$."
   ]
  },
  {
   "cell_type": "markdown",
   "id": "be58e517",
   "metadata": {},
   "source": [
    "__5.__ Установить, является ли линейным подпространством:\n",
    "\n",
    "а) совокупность всех векторов трехмерного пространства, у которых по крайней мере одна из первых двух координат равна нулю;</br>\n",
    "   __Решение__\n",
    "\n",
    "1. Проведя проверку когда первая координата x = 0, мы увидим, что \n",
    "### $$(0, y_1, z_1)+(0, y_2, z_2)+...+(0, y_n, z_n) = (0, y_1+y_2 +..+ y_n, z_1+z_2+..+z_n),$$ \n",
    "### $$\\alpha\\cdot (0, y, z) = (0, \\alpha y, \\alpha z).$$\n",
    "2.Проведя проверку когда вторая координата y = 0, мы увидим, что \n",
    "### $$(x_1, 0, z_1)+(x_2, 0, z_2)+...+(x_3, 0, z_3) = ( x_1+x_2 +..+ x_n, 0, z_1+z_2+..+z_n),$$ \n",
    "### $$\\alpha\\cdot (x,0, z) = (\\alpha x, 0, \\alpha z).$$\n",
    " _Ответ:_ является.</br>\n",
    "б) все векторы, являющиеся линейными комбинациями данных векторов $\\{u_{1}, u_{2}, ..., u_{n}\\}$.</br>\n",
    "   __Решение__</br>\n",
    " Пусть __a__ и __b__ являются векторами комбинации векторовов $\\{u_{1}, u_{2}, ..., u_{n}\\}$. Тогда в математическом выражении это будет выглядеть как: </br>,\n",
    " ### $$a = \\lambda_{1}u_{1}+ \\lambda_{2}u_{2} + \\lambda_{3}u_{3 + ... + \\lambda_{n}u_{n}}$$ \n",
    " ### $$b = \\mu_{1}u_{1} + \\mu_{2}u_{2} + \\mu_{3}u_{3} + ... + \\mu_{n}u_{n}$$\n",
    " что удовлетворяет утверждению - \"Подмножество $L$ линейного пространства $V$ называют _подпространством линейного пространства_ , если оно образует линейное пространство относительно операций, определенных на $V$.\"</br>\n",
    "  _Ответ:_ является."
   ]
  },
  {
   "cell_type": "markdown",
   "id": "7861d59d",
   "metadata": {},
   "source": [
    "</p>"
   ]
  },
  {
   "cell_type": "markdown",
   "id": "4fe8ec6c",
   "metadata": {},
   "source": [
    "## Часть 2"
   ]
  },
  {
   "cell_type": "markdown",
   "id": "6bf5157f",
   "metadata": {},
   "source": [
    "__1.__ Найти скалярное произведение векторов $x, y \\in \\mathbb{R}$:<br>\n",
    "а) $x=(0,-3, 6),~y=(-4, 7, 9);$<br>\n"
   ]
  },
  {
   "cell_type": "code",
   "execution_count": 1,
   "id": "af8b60d6",
   "metadata": {},
   "outputs": [
    {
     "name": "stdout",
     "output_type": "stream",
     "text": [
      "Скалярное произведение a и b:\n",
      "33\n"
     ]
    }
   ],
   "source": [
    "import numpy as np\n",
    "a = np.array([0, -3, 6])\n",
    "b = np.array([-4, 7, 9])\n",
    "print(f'Скалярное произведение a и b:\\n{np.dot(a, b)}')"
   ]
  },
  {
   "cell_type": "markdown",
   "id": "a204f08d",
   "metadata": {},
   "source": [
    "б) $x=(7, -4, 0, 1),~y=(-3, 1, 11, 2).$"
   ]
  },
  {
   "cell_type": "code",
   "execution_count": 11,
   "id": "e829d56b",
   "metadata": {},
   "outputs": [
    {
     "name": "stdout",
     "output_type": "stream",
     "text": [
      "Скалярное произведение a и b:\n",
      "-23.88\n"
     ]
    }
   ],
   "source": [
    "a = np.array([7, -4, 0.1])\n",
    "b = np.array([-3, 1, 11.2])\n",
    "print(f'Скалярное произведение a и b:\\n{np.dot(a, b)}')"
   ]
  },
  {
   "cell_type": "markdown",
   "id": "e04afab5",
   "metadata": {},
   "source": [
    "__2.__ Найти нормы векторов $(4, 2, 4)$ и $(12, 3, 4)$ и угол между ними."
   ]
  },
  {
   "cell_type": "code",
   "execution_count": 12,
   "id": "1b80e15c",
   "metadata": {},
   "outputs": [],
   "source": [
    "from numpy.linalg import norm\n",
    "a = np.array([4, 2, -4])\n",
    "b = np.array([21, 3, 4])"
   ]
  },
  {
   "cell_type": "markdown",
   "id": "8f7a8575",
   "metadata": {},
   "source": [
    "Определим манхэттенскую норму вектора $a$, $b$:\n",
    "\n",
    "### $$\\left\\|x\\right\\|_{1} = |4|+|2|+|-4|=10.$$\n",
    "### $$\\left\\|y\\right\\|_{1} = |21|+|3|+|4|=28.$$"
   ]
  },
  {
   "cell_type": "code",
   "execution_count": 15,
   "id": "c731458a",
   "metadata": {},
   "outputs": [
    {
     "name": "stdout",
     "output_type": "stream",
     "text": [
      "l1 норма вектора a:\n",
      "10.0\n",
      "l1 норма вектора b:\n",
      "28.0\n"
     ]
    }
   ],
   "source": [
    "print(f'l1 норма вектора a:\\n{norm(a, ord=1)}')\n",
    "print(f'l1 норма вектора b:\\n{norm(b, ord=1)}')"
   ]
  },
  {
   "cell_type": "markdown",
   "id": "563be410",
   "metadata": {},
   "source": [
    "Определим эвклидову норму вектора $a$, $b$:\n",
    "### $$\\left\\|x\\right\\|_{2} = \\sqrt{4^{2}+2^{2}+(-4)^{2}}=\\sqrt{36}.$$\n",
    "### $$\\left\\|x\\right\\|_{2} = \\sqrt{21^{2}+3^{2}+(4)^{2}}=\\sqrt{446}.$$"
   ]
  },
  {
   "cell_type": "code",
   "execution_count": null,
   "id": "272c9bf5",
   "metadata": {},
   "outputs": [],
   "source": [
    "a = np.array([4, 2, -4])\n",
    "b = np.array([21, 3, 4])\n",
    "print(f'l2 норма вектора a:\\n{norm(a, ord=2)}')\n",
    "print(f'l2 норма вектора b:\\n{norm(b, ord=2)}')"
   ]
  },
  {
   "cell_type": "code",
   "execution_count": 20,
   "id": "f1f414b3",
   "metadata": {},
   "outputs": [
    {
     "name": "stdout",
     "output_type": "stream",
     "text": [
      "Косинус угла между a и b: 0.57\n",
      "Угол между a и b: 0.96\n"
     ]
    }
   ],
   "source": [
    "cos_phi = np.dot(a, b) / norm(a) / norm(b)\n",
    "print(f'Косинус угла между a и b: {cos_phi:.2f}')\n",
    "print(f'Угол между a и b: {np.arccos(cos_phi):.2f}')"
   ]
  },
  {
   "cell_type": "markdown",
   "id": "aa8f2594",
   "metadata": {},
   "source": [
    "__3.__ Будет ли линейное пространство евклидовым, если за скалярное произведение принять:<br>\n",
    "а) произведение длин векторов;<br>\n",
    "б) утроенное обычное скалярное произведение векторов?</br>\n",
    "   __Решение__</br>\n",
    "   а) Нет, так как не выполнится третья аксиома для Евклидова пространства: $(x_{1}+x_{2},y)=(x_{1},y)+(x_{2},y)$<br>\n",
    "   б) Да, так как выполнятся все аксиомы для Евклидова пространства"
   ]
  },
  {
   "cell_type": "markdown",
   "id": "8d498f2f",
   "metadata": {},
   "source": [
    "__4.__ Какие из нижеперечисленных векторов образуют ортонормированный базис в линейном пространстве $\\mathbb{R}^{3}$:<br>\n",
    "а) $(1,0,0),(0,0,1);$ <br>\n",
    "б) $(1/\\sqrt{2},-1/\\sqrt{2},0),(1/\\sqrt{2},1/\\sqrt{2},0), (0,0,1);$<br>\n",
    "в) $(1/2, -1/2, 0), (0, 1/2, 1/2), (0,0,1);$<br>\n",
    "г) $(1,0,0),(0,1,0),(0,0,1)?$ "
   ]
  },
  {
   "cell_type": "markdown",
   "id": "f098108b",
   "metadata": {},
   "source": [
    "__Решение__\n",
    "<p></p>\n",
    "а) Образуют ортонормированный базис в $\\mathbb{R}^{3}$, но не являются базисом $\\mathbb{R}^{3}$</br>\n",
    "<p></p>\n",
    "б) Образуют ортонормированный базис, так как выполняются условия $(e_{i}, e_{j})=0$ $\\forall$ $i\\neq j$ и $(e_{i},e_{i})=1$ $\\forall$ $i\\in[1, n].$"
   ]
  },
  {
   "cell_type": "code",
   "execution_count": 2,
   "id": "e52c987e",
   "metadata": {},
   "outputs": [],
   "source": [
    "a = np.array([1/(2)**0.5, -1/(2)**0.5, 0])\n",
    "b = np.array([1/(2)**0.5, 1/(2)**0.5, 0])\n",
    "c = np.array([0, 0, 1])"
   ]
  },
  {
   "cell_type": "code",
   "execution_count": 3,
   "id": "5e2af253",
   "metadata": {},
   "outputs": [
    {
     "name": "stdout",
     "output_type": "stream",
     "text": [
      "(a, a)= 1\n",
      "(b, b)= 1\n",
      "(c, c)= 1\n"
     ]
    }
   ],
   "source": [
    "print(f'(a, a)= {a.dot(a):1.0f}')\n",
    "print(f'(b, b)= {b.dot(b):1.0f}')\n",
    "print(f'(c, c)= {c.dot(c):1.0f}')"
   ]
  },
  {
   "cell_type": "code",
   "execution_count": 4,
   "id": "39edeb3c",
   "metadata": {},
   "outputs": [
    {
     "name": "stdout",
     "output_type": "stream",
     "text": [
      "(a, b)= 0.0\n",
      "(a, c)= 0.0\n",
      "(c, b)= 0.0\n"
     ]
    }
   ],
   "source": [
    "print(f'(a, b)= {a.dot(b)}')\n",
    "print(f'(a, c)= {a.dot(c)}')\n",
    "print(f'(c, b)= {c.dot(b)}')"
   ]
  },
  {
   "cell_type": "markdown",
   "id": "10929e89",
   "metadata": {},
   "source": [
    "в) Не образуют ортонормированный базис, так как не выполняются условия $(e_{i}, e_{j})=0$ $\\forall$ $i\\neq j$ и $(e_{i},e_{i})=1$ $\\forall$ $i\\in[1, n].$"
   ]
  },
  {
   "cell_type": "code",
   "execution_count": 5,
   "id": "bd04106d",
   "metadata": {},
   "outputs": [],
   "source": [
    "a = np.array([1/2, -1/2, 0])\n",
    "b = np.array([0, 1/2, 1/2])\n",
    "c = np.array([0, 0, 1])"
   ]
  },
  {
   "cell_type": "code",
   "execution_count": 6,
   "id": "0ae697be",
   "metadata": {},
   "outputs": [
    {
     "name": "stdout",
     "output_type": "stream",
     "text": [
      "(a, a)= 0.5\n",
      "(b, b)= 0.5\n",
      "(c, c)= 1\n"
     ]
    }
   ],
   "source": [
    "print(f'(a, a)= {a.dot(a)}')\n",
    "print(f'(b, b)= {b.dot(b)}')\n",
    "print(f'(c, c)= {c.dot(c)}')"
   ]
  },
  {
   "cell_type": "code",
   "execution_count": 7,
   "id": "be03df60",
   "metadata": {},
   "outputs": [
    {
     "name": "stdout",
     "output_type": "stream",
     "text": [
      "(a, b)= -0.25\n",
      "(a, c)= 0.0\n",
      "(c, b)= 0.5\n"
     ]
    }
   ],
   "source": [
    "print(f'(a, b)= {a.dot(b)}')\n",
    "print(f'(a, c)= {a.dot(c)}')\n",
    "print(f'(c, b)= {c.dot(b)}')"
   ]
  },
  {
   "cell_type": "markdown",
   "id": "1d5aeeb4",
   "metadata": {},
   "source": [
    " Образуют ортонормированный базис, так как выполняются условия $(e_{i}, e_{j})=0$ $\\forall$ $i\\neq j$ и $(e_{i},e_{i})=1$ $\\forall$ $i\\in[1, n].$"
   ]
  },
  {
   "cell_type": "code",
   "execution_count": 8,
   "id": "0b7f8b37",
   "metadata": {},
   "outputs": [],
   "source": [
    "a = np.array([1, 0, 0])\n",
    "b = np.array([0, 1, 0])\n",
    "c = np.array([0, 0, 1])"
   ]
  },
  {
   "cell_type": "code",
   "execution_count": 9,
   "id": "4dcad997",
   "metadata": {},
   "outputs": [
    {
     "name": "stdout",
     "output_type": "stream",
     "text": [
      "(a, a)= 1\n",
      "(b, b)= 1\n",
      "(c, c)= 1\n"
     ]
    }
   ],
   "source": [
    "print(f'(a, a)= {a.dot(a)}')\n",
    "print(f'(b, b)= {b.dot(b)}')\n",
    "print(f'(c, c)= {c.dot(c)}')"
   ]
  },
  {
   "cell_type": "code",
   "execution_count": 10,
   "id": "ec08cb03",
   "metadata": {},
   "outputs": [
    {
     "name": "stdout",
     "output_type": "stream",
     "text": [
      "(a, b)= 0\n",
      "(a, c)= 0\n",
      "(c, b)= 0\n"
     ]
    }
   ],
   "source": [
    "print(f'(a, b)= {a.dot(b)}')\n",
    "print(f'(a, c)= {a.dot(c)}')\n",
    "print(f'(c, b)= {c.dot(b)}')"
   ]
  },
  {
   "cell_type": "code",
   "execution_count": null,
   "id": "c01c104d",
   "metadata": {},
   "outputs": [],
   "source": []
  }
 ],
 "metadata": {
  "kernelspec": {
   "display_name": "Python 3 (ipykernel)",
   "language": "python",
   "name": "python3"
  },
  "language_info": {
   "codemirror_mode": {
    "name": "ipython",
    "version": 3
   },
   "file_extension": ".py",
   "mimetype": "text/x-python",
   "name": "python",
   "nbconvert_exporter": "python",
   "pygments_lexer": "ipython3",
   "version": "3.9.12"
  }
 },
 "nbformat": 4,
 "nbformat_minor": 5
}
