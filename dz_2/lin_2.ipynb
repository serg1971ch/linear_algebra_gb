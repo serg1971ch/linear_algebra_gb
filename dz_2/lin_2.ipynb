{
 "cells": [
  {
   "cell_type": "markdown",
   "id": "983a99ee",
   "metadata": {},
   "source": [
    "# Задание №1"
   ]
  },
  {
   "cell_type": "markdown",
   "id": "952f0128",
   "metadata": {},
   "source": [
    "__1.__ Установить, какие произведения матриц $AB$ и $BA$ определены, и найти размерности полученных матриц:\n",
    "\n",
    "   а) $A$ — матрица $4\\times 2$, $B$ — матрица $4\\times 2$;\n",
    "    \n",
    "   б) $A$ — матрица $2\\times 5$, $B$ — матрица $5\\times 3$;\n",
    "    \n",
    "   в) $A$ — матрица $8\\times 3$, $B$ — матрица $3\\times 8$;\n",
    "    \n",
    "   г) $A$ — квадратная матрица $4\\times 4$, $B$ — квадратная матрица $4\\times 4$."
   ]
  },
  {
   "cell_type": "markdown",
   "id": "f2e02f6f",
   "metadata": {},
   "source": [
    "__Решение:__<br>\n",
    "<p></p>\n",
    "а) Поскольку число столбцов матрицы $A(2)$ не равно числу строк матрицы $A(4)$, следовательно AB неопределено, а поскольку число столбцов матрицы  $A(2)$ так же не равно числу строк матрицы $A(4)$, следовательно AB также неопределено.<br>\n",
    "б) AB имеет размер $2x3$ - определено, соответственно BA не определено.<br>\n",
    "в) AB определено, полученная матрица имеет размер 8х8, BA определено, полученная матрица имеет размер 3х3.<br>\n",
    "г) AB и BA определены и полученные матрицы имеют размер 4х4.<br>"
   ]
  },
  {
   "cell_type": "markdown",
   "id": "c79112d7",
   "metadata": {},
   "source": [
    "__2.__ Найти сумму и произведение матриц $A=\\begin{pmatrix}\n",
    "1 & -2\\\\ \n",
    "3 & 0\n",
    "\\end{pmatrix}$ и $B=\\begin{pmatrix}\n",
    "4 & -1\\\\ \n",
    "0 & 5\n",
    "\\end{pmatrix}.$\n",
    "\n",
    "__Решение:__<br>\n",
    "$A=\\begin{pmatrix}\n",
    "1 + 4& -2 + (-1)\\\\ \n",
    "3 + 0& 0 + 5\n",
    "\\end{pmatrix} = \\begin{pmatrix}\n",
    "5 & -3\\\\ \n",
    "3 & 5\n",
    "\\end{pmatrix}$"
   ]
  },
  {
   "cell_type": "code",
   "execution_count": 4,
   "id": "7fd08a6a",
   "metadata": {},
   "outputs": [
    {
     "data": {
      "text/plain": [
       "array([[ 5, -3],\n",
       "       [ 3,  5]])"
      ]
     },
     "execution_count": 4,
     "metadata": {},
     "output_type": "execute_result"
    }
   ],
   "source": [
    "import numpy as np\n",
    "\n",
    "A=np.array([[1,-2],[3,0]])\n",
    "B=np.array([[4,-1],[0,5]])\n",
    "C=np.arange(4).reshape(2,2)\n",
    "for i in range(len(A)):\n",
    "    for j in range(len(A[i])):\n",
    "        C[i][j]=A[i][j]+B[i][j]\n",
    "C"
   ]
  },
  {
   "cell_type": "code",
   "execution_count": 6,
   "id": "fef0f34a",
   "metadata": {},
   "outputs": [
    {
     "name": "stdout",
     "output_type": "stream",
     "text": [
      "Проверим с numpy:\n"
     ]
    },
    {
     "data": {
      "text/plain": [
       "array([[ 5, -3],\n",
       "       [ 3,  5]])"
      ]
     },
     "execution_count": 6,
     "metadata": {},
     "output_type": "execute_result"
    }
   ],
   "source": [
    "print(\"Проверим с numpy:\")\n",
    "\n",
    "A+B"
   ]
  },
  {
   "cell_type": "markdown",
   "id": "35a7ab0a",
   "metadata": {},
   "source": [
    "__3.__ Из закономерностей сложения и умножения матриц на число можно сделать вывод, что матрицы одного размера образуют линейное пространство. Вычислить линейную комбинацию $3A-2B+4C$ для матриц $A=\\begin{pmatrix}\n",
    "1 & 7\\\\ \n",
    "3 & -6\n",
    "\\end{pmatrix}$, $B=\\begin{pmatrix}\n",
    "0 & 5\\\\ \n",
    "2 & -1\n",
    "\\end{pmatrix}$, $C=\\begin{pmatrix}\n",
    "2 & -4\\\\ \n",
    "1 & 1\n",
    "\\end{pmatrix}.$<br>\n",
    "\n",
    "__Решение:__<br>\n",
    "<p></p>\n",
    " $3A-2B+4C = 3*\\begin{pmatrix}\n",
    "1 & 7\\\\ \n",
    "3 & -6\n",
    "\\end{pmatrix} - 2* \\begin{pmatrix}\n",
    "0 & 5\\\\ \n",
    "2 & -1\n",
    "\\end{pmatrix} + 4*\\begin{pmatrix}\n",
    "2 & -4\\\\ \n",
    "1 & 1\n",
    "\\end{pmatrix} = \\begin{pmatrix}\n",
    "3*1 & 3*7\\\\ \n",
    "3*3 & 3*(-6)\n",
    "\\end{pmatrix} - \\begin{pmatrix}\n",
    "2*0 & 2*5\\\\ \n",
    "2*2 & 2*(-1)\n",
    "\\end{pmatrix} + \\begin{pmatrix}\n",
    "4*2 & 4*(-4)\\\\ \n",
    "4*1 & 4*1\\end{pmatrix}$\n",
    "<p></p>\n",
    " $3A-2B+4C = \\begin{pmatrix}\n",
    " 3-0+8 & 9-4+4\\\\ \n",
    "21-10-16 & -18+2+4\n",
    "\\end{pmatrix} = \\begin{pmatrix}\n",
    " 11 & 9\\\\ \n",
    "9 & -12\n",
    "\\end{pmatrix}$\n",
    "<p></p>\n",
    "</br>\n",
    "проверим с numpy:"
   ]
  },
  {
   "cell_type": "code",
   "execution_count": 7,
   "id": "237bd760",
   "metadata": {},
   "outputs": [
    {
     "data": {
      "text/plain": [
       "array([[ 11,  -5],\n",
       "       [  9, -12]])"
      ]
     },
     "execution_count": 7,
     "metadata": {},
     "output_type": "execute_result"
    }
   ],
   "source": [
    "a=np.array([[1,7],[3,-6]])\n",
    "b=np.array([[0,5],[2,-1]])\n",
    "c=np.array([[2,-4],[1,1]])\n",
    "3*a-2*b+4*c"
   ]
  },
  {
   "cell_type": "markdown",
   "id": "26979f3b",
   "metadata": {},
   "source": [
    "__4.__ Дана матрица $A=\\begin{pmatrix}\n",
    "4 & 1\\\\ \n",
    "5 & -2\\\\ \n",
    "2 & 3\n",
    "\\end{pmatrix}$.\n",
    "Вычислить $AA^{T}$ и $A^{T}A$.\n",
    "\n",
    "__Решение:__<br>\n",
    "<p></p>\n",
    "$A^{T}=\\begin{pmatrix}\n",
    "4 & 5&2\\\\ \n",
    "1 & -2&3\n",
    "\\end{pmatrix}$.\n",
    "\n",
    "$A^{T}A = \\begin{pmatrix}\n",
    "4 & 1\\\\ \n",
    "5 & -2\\\\ \n",
    "2 & 3\n",
    "\\end{pmatrix}*\\begin{pmatrix}\n",
    "4 & 5&2\\\\ \n",
    "1 & -2&3\n",
    "\\end{pmatrix}= \\begin{pmatrix}\n",
    "4*4+1*1 & 4*5+1*-2&4*2+1*3\\\\ \n",
    "5*4+(-2)*1 & 5*5+(-2)*(-2)&5*2+(-2)*3\\\\2*4+3*1&2*5+3*(-2)&2*2+3*3\n",
    "\\end{pmatrix}=\\begin{pmatrix}\n",
    "17 & 18&11\\\\ \n",
    "18 &29&4\\\\11&4&13\n",
    "\\end{pmatrix}$.\n",
    "$AA^{T} = \\begin{pmatrix}\n",
    "4 & 5&2\\\\ \n",
    "1 & -2&3\n",
    "\\end{pmatrix}*\\begin{pmatrix}\n",
    "4 & 1\\\\ \n",
    "5 & -2\\\\ \n",
    "2 & 3\n",
    "\\end{pmatrix}=\\begin{pmatrix}\n",
    "4*4+5*5+2*2 & 4*1+5*-2+2*3\\\\\n",
    "1*4+(-2)*5+3*2& 1*1+(-2)*(-2)+3*3\n",
    "\\end{pmatrix}=\\begin{pmatrix}\n",
    "45 & 0\\\\0& 14\n",
    "\\end{pmatrix}$"
   ]
  },
  {
   "cell_type": "code",
   "execution_count": 8,
   "id": "0b935ffe",
   "metadata": {},
   "outputs": [],
   "source": [
    "# Функция возвращает транспонированную матрицу\n",
    "def trans_matrix(matrix):\n",
    "    trans=np.empty(shape=[matrix.shape[1],matrix.shape[0]])\n",
    "    for i in range(trans.shape[0]):\n",
    "        for j in range(trans.shape[1]):\n",
    "            trans[i][j]=matrix[j][i]\n",
    "    return trans"
   ]
  },
  {
   "cell_type": "markdown",
   "id": "9c6350fa",
   "metadata": {},
   "source": [
    "Проверим с numpy:"
   ]
  },
  {
   "cell_type": "code",
   "execution_count": 9,
   "id": "531df890",
   "metadata": {},
   "outputs": [
    {
     "data": {
      "text/plain": [
       "array([[ 4.,  5.,  2.],\n",
       "       [ 1., -2.,  3.]])"
      ]
     },
     "execution_count": 9,
     "metadata": {},
     "output_type": "execute_result"
    }
   ],
   "source": [
    "A=np.array([[4,1],[5,-2],[2,3]])\n",
    "trans_matrix(A)"
   ]
  },
  {
   "cell_type": "code",
   "execution_count": 10,
   "id": "a1118381",
   "metadata": {},
   "outputs": [
    {
     "data": {
      "text/plain": [
       "array([[ 4,  5,  2],\n",
       "       [ 1, -2,  3]])"
      ]
     },
     "execution_count": 10,
     "metadata": {},
     "output_type": "execute_result"
    }
   ],
   "source": [
    "A.T"
   ]
  },
  {
   "cell_type": "code",
   "execution_count": 11,
   "id": "3ee14fcd",
   "metadata": {},
   "outputs": [
    {
     "data": {
      "text/plain": [
       "array([[17., 18., 11.],\n",
       "       [18., 29.,  4.],\n",
       "       [11.,  4., 13.]])"
      ]
     },
     "execution_count": 11,
     "metadata": {},
     "output_type": "execute_result"
    }
   ],
   "source": [
    "A@trans_matrix(A)"
   ]
  },
  {
   "cell_type": "code",
   "execution_count": 12,
   "id": "429a7cec",
   "metadata": {},
   "outputs": [
    {
     "data": {
      "text/plain": [
       "array([[17, 18, 11],\n",
       "       [18, 29,  4],\n",
       "       [11,  4, 13]])"
      ]
     },
     "execution_count": 12,
     "metadata": {},
     "output_type": "execute_result"
    }
   ],
   "source": [
    "A@A.T"
   ]
  },
  {
   "cell_type": "code",
   "execution_count": 13,
   "id": "97f552cb",
   "metadata": {},
   "outputs": [
    {
     "data": {
      "text/plain": [
       "array([[45.,  0.],\n",
       "       [ 0., 14.]])"
      ]
     },
     "execution_count": 13,
     "metadata": {},
     "output_type": "execute_result"
    }
   ],
   "source": [
    "trans_matrix(A)@A"
   ]
  },
  {
   "cell_type": "code",
   "execution_count": 14,
   "id": "4d7212c8",
   "metadata": {},
   "outputs": [
    {
     "data": {
      "text/plain": [
       "array([[45,  0],\n",
       "       [ 0, 14]])"
      ]
     },
     "execution_count": 14,
     "metadata": {},
     "output_type": "execute_result"
    }
   ],
   "source": [
    "A.T@A"
   ]
  },
  {
   "cell_type": "markdown",
   "id": "c71b54f1",
   "metadata": {},
   "source": [
    "__5*.__ Написать на Python функцию для перемножения двух произвольных матриц, не используя NumPy."
   ]
  },
  {
   "cell_type": "code",
   "execution_count": 15,
   "id": "3211c8f1",
   "metadata": {},
   "outputs": [],
   "source": [
    "def multiplicate_matrix(left,right):\n",
    "    try: \n",
    "        left.shape[1]==right.shape[0]\n",
    "        result=[]\n",
    "        temp=[]\n",
    "        s=0\n",
    "        for i in range(left.shape[0]):\n",
    "            for j in range(right.shape[1]):\n",
    "                for k in range(right.shape[0]):\n",
    "                    s+=left[i][k]*right[k][j]\n",
    "                temp.append(s)\n",
    "                s=0\n",
    "            result.append(temp)\n",
    "            temp=[]\n",
    "        return np.array(result)\n",
    "    except Exception:\n",
    "        print('Произведение матриц таких размеров не определено!')"
   ]
  },
  {
   "cell_type": "code",
   "execution_count": 16,
   "id": "57bdfa8f",
   "metadata": {},
   "outputs": [],
   "source": [
    "A=np.array([[1,-2],[3,0],[4,1],[6,9]])\n",
    "B=np.array([[4,-1,3,2],[0,5,2,-5]])"
   ]
  },
  {
   "cell_type": "code",
   "execution_count": 17,
   "id": "03b4c72e",
   "metadata": {},
   "outputs": [
    {
     "data": {
      "text/plain": [
       "array([[  4, -11,  -1,  12],\n",
       "       [ 12,  -3,   9,   6],\n",
       "       [ 16,   1,  14,   3],\n",
       "       [ 24,  39,  36, -33]])"
      ]
     },
     "execution_count": 17,
     "metadata": {},
     "output_type": "execute_result"
    }
   ],
   "source": [
    "A.dot(B)"
   ]
  },
  {
   "cell_type": "code",
   "execution_count": 18,
   "id": "e03bd2e2",
   "metadata": {},
   "outputs": [
    {
     "data": {
      "text/plain": [
       "array([[  4, -11,  -1,  12],\n",
       "       [ 12,  -3,   9,   6],\n",
       "       [ 16,   1,  14,   3],\n",
       "       [ 24,  39,  36, -33]])"
      ]
     },
     "execution_count": 18,
     "metadata": {},
     "output_type": "execute_result"
    }
   ],
   "source": [
    "multiplicate_matrix(A,B)"
   ]
  },
  {
   "cell_type": "code",
   "execution_count": 19,
   "id": "2ec9585c",
   "metadata": {},
   "outputs": [
    {
     "data": {
      "text/plain": [
       "array([[ 25,  13],\n",
       "       [ -7, -43]])"
      ]
     },
     "execution_count": 19,
     "metadata": {},
     "output_type": "execute_result"
    }
   ],
   "source": [
    "B.dot(A)"
   ]
  },
  {
   "cell_type": "code",
   "execution_count": 20,
   "id": "cbc4ca2a",
   "metadata": {},
   "outputs": [
    {
     "data": {
      "text/plain": [
       "array([[ 25,  13],\n",
       "       [ -7, -43]])"
      ]
     },
     "execution_count": 20,
     "metadata": {},
     "output_type": "execute_result"
    }
   ],
   "source": [
    "multiplicate_matrix(B,A)"
   ]
  },
  {
   "cell_type": "markdown",
   "id": "9e0b594c",
   "metadata": {},
   "source": [
    "# Задание №2"
   ]
  },
  {
   "cell_type": "markdown",
   "id": "ea493741",
   "metadata": {},
   "source": [
    "__1.__ Вычислить определитель:\n",
    "\n",
    "   a)\n",
    "\n",
    "$$\\begin{vmatrix}\n",
    "sinx & -cosx\\\\ \n",
    "cosx & sinx\n",
    "\\end{vmatrix};$$\n",
    "\n",
    "   б)\n",
    "    \n",
    "$$\\begin{vmatrix}\n",
    "4 & 2 & 3\\\\ \n",
    "0 & 5 & 1\\\\ \n",
    "0 & 0 & 9\n",
    "\\end{vmatrix};$$\n",
    "    \n",
    "   в)\n",
    "\n",
    "$$\\begin{vmatrix}\n",
    "1 & 2 & 3\\\\ \n",
    "4 & 5 & 6\\\\ \n",
    "7 & 8 & 9\n",
    "\\end{vmatrix}.$$\n"
   ]
  },
  {
   "cell_type": "markdown",
   "id": "5eef5393",
   "metadata": {},
   "source": [
    "__Решение:__<br>\n",
    "<p></p>\n",
    "\n",
    "а) Для матрицы порядка 2:\n",
    "$A=\\begin{pmatrix}\n",
    "a_{11}&a_{12}\\\\ \n",
    "a_{21}& a_{22}\n",
    "\\end{pmatrix}$</br>\n",
    "<p></p>\n",
    "Определитель вычисляется как:\n",
    "$detA=a_{11}a_{22}-a_{12} a_{21}$\n",
    "<p></p>\n",
    "Тогда:</r>\n",
    "$A=\\begin{pmatrix}\n",
    "sinx&-cosx\\\\ \n",
    "cosx& sinx\n",
    "\\end{pmatrix}$</br>\n",
    "<p></p>\n",
    "$detA=sinx*sinx-(-cosx)*cosx=sin^2x+cos^2x=1$"
   ]
  },
  {
   "cell_type": "code",
   "execution_count": 21,
   "id": "0e0f120b",
   "metadata": {},
   "outputs": [
    {
     "name": "stdout",
     "output_type": "stream",
     "text": [
      "Проверим с помощью numpy\n",
      "0 1\n",
      "2 1\n",
      "4 1\n",
      "6 1\n",
      "8 1\n",
      "10 1\n"
     ]
    }
   ],
   "source": [
    "print(\"Проверим с помощью numpy\")\n",
    "for x in range(0,11,2):\n",
    "    A=np.array([[np.sin(x), -np.cos(x)],[np.cos(x), np.sin(x)]])\n",
    "    print(x, round(np.linalg.det(A)))"
   ]
  },
  {
   "cell_type": "markdown",
   "id": "23c49e39",
   "metadata": {},
   "source": [
    "б) Воспользуемся свойством определителя матрицы треугольного вида:\n",
    "Определитель матрицы треугольного вида равен произведению элементов, стоящих на ее главной диагонали</b>\n",
    "\n",
    "$detB=4*5*9=180$\n"
   ]
  },
  {
   "cell_type": "code",
   "execution_count": 22,
   "id": "e48aa909",
   "metadata": {},
   "outputs": [
    {
     "name": "stdout",
     "output_type": "stream",
     "text": [
      "Проверим с помощью numpy\n"
     ]
    },
    {
     "data": {
      "text/plain": [
       "180.0"
      ]
     },
     "execution_count": 22,
     "metadata": {},
     "output_type": "execute_result"
    }
   ],
   "source": [
    "print(\"Проверим с помощью numpy\")\n",
    "B=np.array([[4,2,3], [0,5,1],[0,0,9]])  \n",
    "np.linalg.det(B)"
   ]
  },
  {
   "cell_type": "markdown",
   "id": "c012c3a1",
   "metadata": {},
   "source": [
    "в) Разложим по элементам первой строки:\n",
    "    $C=\\begin{pmatrix}\n",
    "1 & 2 & 3\\\\ \n",
    "4 & 5 & 6\\\\ \n",
    "7 & 8 & 9\n",
    "\\end{pmatrix}.$\n",
    "<p></p>\n",
    "$detC=1*\\begin{pmatrix}\n",
    "5 & 6\\\\ 8 & 9\n",
    "\\end{pmatrix}-2*\\begin{pmatrix}\n",
    "4 & 6\\\\ 7 & 9\n",
    "\\end{pmatrix}+3*\\begin{pmatrix}\n",
    "4 &5\\\\ 7&8\n",
    "\\end{pmatrix}=1*(5*9-6*8)-2*(4*9-6*7)+3*(4*8-5*7)=0$"
   ]
  },
  {
   "cell_type": "code",
   "execution_count": 23,
   "id": "eeab7d32",
   "metadata": {},
   "outputs": [
    {
     "name": "stdout",
     "output_type": "stream",
     "text": [
      "Проверим с помощью numpy\n"
     ]
    },
    {
     "data": {
      "text/plain": [
       "0.0"
      ]
     },
     "execution_count": 23,
     "metadata": {},
     "output_type": "execute_result"
    }
   ],
   "source": [
    "print(\"Проверим с помощью numpy\")\n",
    "C=np.array([[1,2,3], [4,5,6],[7,8,9]])  \n",
    "round(np.linalg.det(C),1)"
   ]
  },
  {
   "cell_type": "markdown",
   "id": "efb193e6",
   "metadata": {},
   "source": [
    "__2.__ Определитель матрицы $A$ равен $4$. Найти:\n",
    "\n",
    "   а) $det(A^{2})$;\n",
    "    \n",
    "   б) $det(A^{T})$;\n",
    "    \n",
    "   в) $det(2A)$."
   ]
  },
  {
   "cell_type": "markdown",
   "id": "6497313c",
   "metadata": {},
   "source": [
    "__Решение:__<br>\n",
    "<p></p>\n",
    "a) Используем следующее свойство определителя:\n",
    "\n",
    "Для двух квадратных матриц одинакового размера\n",
    "$det(AB)=detA*detB$</br>\n",
    "Следовательно:</br>\n",
    "$det(A^2)=detA*detA=4*4=16$\n",
    "\n",
    "б) Используем следующее свойство определителя:\n",
    "\n",
    "Определитель транспонированной матрицы равен определителю исходной:\n",
    "\n",
    "$det(A^T)=detA=4$\n",
    "\n",
    "в) Из свойства определителя:\n",
    "\n",
    "Умножение строки или столбца матрицы на число 𝜆 приведет к умножению определителя матрицы на то же число.\n",
    "\n",
    "Следует, что $det(2A)=2^n*det(A)=2^n*4$, где n - порядок матрицы A"
   ]
  },
  {
   "cell_type": "markdown",
   "id": "7031a0c7",
   "metadata": {},
   "source": [
    "__3.__  Доказать, что матрица\n",
    "\n",
    "$$\\begin{pmatrix}\n",
    "-2 & 7 & -3\\\\ \n",
    "4 & -14 & 6\\\\ \n",
    "-3 & 7 & 13\n",
    "\\end{pmatrix}$$\n",
    "   \n",
    "вырожденная.\n",
    "\n",
    "__Решение:__<br>\n",
    "<p></p>\n",
    "Поскольку мы можем представить вторую строку данной матрицы (4,-14,6) через первую ее строку (-2,7-3) как </br>\n",
    "$(4,-14,6)=-2*(-2,7-3)$, т.е. две строки (столбца) матрицы линейно зависимы, а значит её определитель равен , таким образом\n",
    "\n",
    "такая матрица, согласно определению, является __вырожденной__."
   ]
  },
  {
   "cell_type": "code",
   "execution_count": 24,
   "id": "f15f49be",
   "metadata": {},
   "outputs": [
    {
     "name": "stdout",
     "output_type": "stream",
     "text": [
      "Проверим с помощью numpy\n"
     ]
    },
    {
     "data": {
      "text/plain": [
       "0.0"
      ]
     },
     "execution_count": 24,
     "metadata": {},
     "output_type": "execute_result"
    }
   ],
   "source": [
    "print(\"Проверим с помощью numpy\")\n",
    "arr=np.array([[-2,7,-3],[4,-14,6],[-3,7,13]])\n",
    "np.linalg.det(arr)"
   ]
  },
  {
   "cell_type": "markdown",
   "id": "8bb62917",
   "metadata": {},
   "source": [
    "__4.__ Найти ранг матрицы:\n",
    "\n",
    "   а) $\\begin{pmatrix}\n",
    "1 & 2 & 3\\\\ \n",
    "1 & 1 & 1\\\\ \n",
    "2 & 3 & 4\n",
    "\\end{pmatrix};$\n",
    "\n",
    "   б) $\\begin{pmatrix}\n",
    "0 & 0 & 2 & 1\\\\ \n",
    "0 & 0 & 2 & 2\\\\ \n",
    "0 & 0 & 4 & 3\\\\ \n",
    "2 & 3 & 5 & 6\n",
    "\\end{pmatrix}.$"
   ]
  },
  {
   "cell_type": "markdown",
   "id": "9823cf55",
   "metadata": {},
   "source": [
    "__Решение:__<br>\n",
    "<p></p>\n",
    "a)Третья строка является суммой первой и второй строк, а значит, ее можно отбросить:</br>\n",
    "\n",
    "$\\begin{pmatrix}\n",
    "1 & 2 & 3\\\\ \n",
    "1 & 1 & 1\n",
    "\\end{pmatrix}$\n",
    "\n",
    "Из первой строки вычтем вторую и поменяем строки местами:\n",
    "\n",
    "$\\begin{pmatrix}\n",
    "1 & 1 & 1\\\\ \n",
    "0 & 1 & 2\n",
    "\\end{pmatrix}$\n",
    "\n",
    "Ранг матрицы равен - 2\n",
    "\n",
    "Проверим:"
   ]
  },
  {
   "cell_type": "code",
   "execution_count": 25,
   "id": "f577cde1",
   "metadata": {},
   "outputs": [
    {
     "data": {
      "text/plain": [
       "2"
      ]
     },
     "execution_count": 25,
     "metadata": {},
     "output_type": "execute_result"
    }
   ],
   "source": [
    "arr=([[1,2,3],[1,1,1],[2,3,4]])\n",
    "np.linalg.matrix_rank(arr)"
   ]
  },
  {
   "cell_type": "markdown",
   "id": "6a7d096c",
   "metadata": {},
   "source": [
    "б)\n",
    "\n",
    "$\\begin{pmatrix}\n",
    "0 & 0 & 2 & 1\\\\ \n",
    "0 & 0 & 2 & 2\\\\ \n",
    "0 & 0 & 4 & 3\\\\ \n",
    "2 & 3 & 5 & 6\n",
    "\\end{pmatrix}.$\n",
    "\n",
    "Третья строка является суммой первой и второй строки, отбрасываем:\n",
    "\n",
    "$\\begin{pmatrix}\n",
    "0 & 0 & 2&1\\\\ \n",
    "0& 0 & 2&2\\\\\n",
    "2&3&5&6\n",
    "\\end{pmatrix}$\n",
    "\n",
    "Вычтем вторую строку из первой:\n",
    "\n",
    "$\\begin{pmatrix}\n",
    "0 & 0 & 0&-1\\\\ \n",
    "0& 0 & 2&2\\\\\n",
    "2&3&5&6\n",
    "\\end{pmatrix}$\n",
    "\n",
    "Удалим второй столбец, который можно выразить через первый:\n",
    "\n",
    "$\\begin{pmatrix}\n",
    " 0 & 0&-1\\\\ \n",
    " 0 & 2& 2\\\\\n",
    " 2&5&6\n",
    "\\end{pmatrix}$\n",
    "\n",
    "Поменяем местами первую и третью строки:\n",
    "\n",
    "$\\begin{pmatrix}\n",
    " 2 & 5&6\\\\ \n",
    " 0 & 2& 2\\\\\n",
    " 0&0& -1\n",
    "\\end{pmatrix}$\n",
    "\n",
    "Ранг матрицы равен \n",
    "\n",
    "Проверим: 3\n",
    "\n",
    "\n"
   ]
  },
  {
   "cell_type": "code",
   "execution_count": 26,
   "id": "bb535018",
   "metadata": {},
   "outputs": [
    {
     "data": {
      "text/plain": [
       "3"
      ]
     },
     "execution_count": 26,
     "metadata": {},
     "output_type": "execute_result"
    }
   ],
   "source": [
    "arr=([[0,0,2,1],[0,0,2,2],[0,0,4,3],[2,3,5,6]])\n",
    "np.linalg.matrix_rank(arr)"
   ]
  },
  {
   "cell_type": "markdown",
   "id": "9d9901ee",
   "metadata": {},
   "source": [
    "Ранк матрицы равен 3."
   ]
  }
 ],
 "metadata": {
  "kernelspec": {
   "display_name": "Python 3 (ipykernel)",
   "language": "python",
   "name": "python3"
  },
  "language_info": {
   "codemirror_mode": {
    "name": "ipython",
    "version": 3
   },
   "file_extension": ".py",
   "mimetype": "text/x-python",
   "name": "python",
   "nbconvert_exporter": "python",
   "pygments_lexer": "ipython3",
   "version": "3.9.12"
  }
 },
 "nbformat": 4,
 "nbformat_minor": 5
}
